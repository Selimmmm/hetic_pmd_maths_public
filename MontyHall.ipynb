{
 "cells": [
  {
   "cell_type": "markdown",
   "metadata": {},
   "source": [
    "## Problème de MontyHall : \n",
    "\n",
    "\n",
    "**Enoncé** \n",
    "\n",
    "- Il y a 3 portes. Derrière l'une d'elle se cache une voiture, derrière les deux autres se cachent des chèvres.\n",
    "    - Le maître de cérémonie vous demande une première fois sur quelle porte vous souhaitez parier.\n",
    "    - Ensuite, il élimine une des deux portes que vous n'avez pas choisi (toujours une derrière laquelle une chèvre se trouve).\n",
    "    - Enfin, il vous propose de changer votre choix pour l'autre porte restante ou de rester sur votre première décision\n",
    "\n",
    "**Question** \n",
    "\n",
    "- Quelle est la probabilité de gagner si on change systématiquement de porte ? Si on ne change jamais de porte ?\n",
    "- Pour maximiser la probabilité de gagner, faut-il garder la même porte ou changer de porte ? \n",
    "\n",
    "\n",
    "\n",
    "**Méthode 1**\n",
    "- Simuler informatiquement - on a codé un petit jeu :\n",
    "    - on peut soit y jouer soi-même\n",
    "    - soit laisser une ia y jouer\n",
    "\n",
    "**Méthode 2**\n",
    "- Par le calcul"
   ]
  },
  {
   "cell_type": "code",
   "execution_count": 1,
   "metadata": {},
   "outputs": [],
   "source": [
    "import random\n",
    "import matplotlib.pyplot\n",
    "\n",
    "class MontyHall:\n",
    "    \n",
    "    \n",
    "    def __init__(self, user, n_games=100, verbose=False):\n",
    "        self.n_games = n_games\n",
    "        self.user = user\n",
    "        self.verbose = verbose\n",
    "        self.victory_count = 0\n",
    "        \n",
    "        \n",
    "    def one_game(self):\n",
    "        good_door = random.randint(1, 3)\n",
    "        wrong_doors = [x for x in range(1, 4) if x != good_door]\n",
    "        \n",
    "        if self.user == \"human\":\n",
    "            answer = None\n",
    "            while answer not in [1, 2, 3]:\n",
    "                print(\"Derrière quelle porte se cache la voiture ?\")\n",
    "                try:\n",
    "                    answer = int(input())\n",
    "                except:\n",
    "                    print(\"Saisissez une valeur entre 1 et 3 s'il vous plait\")\n",
    "        \n",
    "        elif self.user.startswith(\"ia\"):\n",
    "            answer = random.choice([1, 2, 3])\n",
    "                  \n",
    "        if answer == good_door:\n",
    "            wrong_door_anounced = random.choice(wrong_doors)\n",
    "        else:\n",
    "            wrong_door_anounced = [x for x in wrong_doors if x != answer][0]\n",
    "            \n",
    "        new_answers = [x for x in [1, 2, 3] if x != wrong_door_anounced]\n",
    "        new_answers.sort()\n",
    "        \n",
    "        if self.user == \"human\":\n",
    "            print(wrong_door_anounced, \"was a wrong door\")\n",
    "            print(f\"Saisissez {new_answers[0]} ou {new_answers[1]}\")\n",
    "            new_answer = None\n",
    "            while new_answer not in new_answers:\n",
    "                print(\"Derrière quelle porte se cache la voiture ?\")\n",
    "                try:\n",
    "                    new_answer = int(input())\n",
    "                except:\n",
    "                    print(f\"Saisissez une valeur dans {' ,'.join(new_answers)} s'il vous plait\")\n",
    "                    \n",
    "        \n",
    "        elif self.user == \"ia_dumb\":\n",
    "            new_answer = answer\n",
    "            \n",
    "        elif self.user == \"ia_smart\":\n",
    "            new_answer = [x for x in new_answers if x != answer][0]\n",
    "            \n",
    "        if new_answer == good_door:\n",
    "            self.victory_count += 1\n",
    "            \n",
    "            \n",
    "        if (self.user.startswith(\"ia\")) & (self.verbose):\n",
    "            win = \"VICTOIRE\" if good_door == answer else \"DEFAITE\"\n",
    "            print(f\"{win} - la porte était {good_door} et vous avez choisi {answer} puis {new_answer}\")\n",
    "            \n",
    "        \n",
    "        if (self.user == \"human\" ) & (self.verbose):\n",
    "            if new_answer == good_door:\n",
    "                print(\"Vous avez gagné !!\")\n",
    "            else:\n",
    "                print(\"Vous avez perdu\")\n",
    "        \n",
    "        print(\"\\n\" + \"#\" * 10 + \"\\n\")\n",
    "            \n",
    "    def many_games(self):\n",
    "        for _ in range(self.n_games):\n",
    "            self.one_game()"
   ]
  },
  {
   "cell_type": "code",
   "execution_count": null,
   "metadata": {},
   "outputs": [],
   "source": []
  },
  {
   "cell_type": "markdown",
   "metadata": {},
   "source": [
    "## Humain"
   ]
  },
  {
   "cell_type": "code",
   "execution_count": 3,
   "metadata": {},
   "outputs": [
    {
     "name": "stdout",
     "output_type": "stream",
     "text": [
      "Derrière quelle porte se cache la voiture ?\n"
     ]
    },
    {
     "name": "stdin",
     "output_type": "stream",
     "text": [
      " 1\n"
     ]
    },
    {
     "name": "stdout",
     "output_type": "stream",
     "text": [
      "2 was a wrong door\n",
      "Saisissez 1 ou 3\n",
      "Derrière quelle porte se cache la voiture ?\n"
     ]
    },
    {
     "name": "stdin",
     "output_type": "stream",
     "text": [
      " 3\n"
     ]
    },
    {
     "name": "stdout",
     "output_type": "stream",
     "text": [
      "Vous avez perdu\n",
      "\n",
      "##########\n",
      "\n",
      "Derrière quelle porte se cache la voiture ?\n"
     ]
    },
    {
     "name": "stdin",
     "output_type": "stream",
     "text": [
      " 2\n"
     ]
    },
    {
     "name": "stdout",
     "output_type": "stream",
     "text": [
      "3 was a wrong door\n",
      "Saisissez 1 ou 2\n",
      "Derrière quelle porte se cache la voiture ?\n"
     ]
    },
    {
     "name": "stdin",
     "output_type": "stream",
     "text": [
      " 1\n"
     ]
    },
    {
     "name": "stdout",
     "output_type": "stream",
     "text": [
      "Vous avez gagné !!\n",
      "\n",
      "##########\n",
      "\n",
      "Derrière quelle porte se cache la voiture ?\n"
     ]
    },
    {
     "name": "stdin",
     "output_type": "stream",
     "text": [
      " 3\n"
     ]
    },
    {
     "name": "stdout",
     "output_type": "stream",
     "text": [
      "2 was a wrong door\n",
      "Saisissez 1 ou 3\n",
      "Derrière quelle porte se cache la voiture ?\n"
     ]
    },
    {
     "name": "stdin",
     "output_type": "stream",
     "text": [
      " 1\n"
     ]
    },
    {
     "name": "stdout",
     "output_type": "stream",
     "text": [
      "Vous avez gagné !!\n",
      "\n",
      "##########\n",
      "\n",
      "Derrière quelle porte se cache la voiture ?\n"
     ]
    },
    {
     "name": "stdin",
     "output_type": "stream",
     "text": [
      " 2\n"
     ]
    },
    {
     "name": "stdout",
     "output_type": "stream",
     "text": [
      "1 was a wrong door\n",
      "Saisissez 2 ou 3\n",
      "Derrière quelle porte se cache la voiture ?\n"
     ]
    },
    {
     "name": "stdin",
     "output_type": "stream",
     "text": [
      " 3\n"
     ]
    },
    {
     "name": "stdout",
     "output_type": "stream",
     "text": [
      "Vous avez perdu\n",
      "\n",
      "##########\n",
      "\n",
      "Derrière quelle porte se cache la voiture ?\n"
     ]
    },
    {
     "name": "stdin",
     "output_type": "stream",
     "text": [
      " 1\n"
     ]
    },
    {
     "name": "stdout",
     "output_type": "stream",
     "text": [
      "2 was a wrong door\n",
      "Saisissez 1 ou 3\n",
      "Derrière quelle porte se cache la voiture ?\n"
     ]
    },
    {
     "name": "stdin",
     "output_type": "stream",
     "text": [
      " 3\n"
     ]
    },
    {
     "name": "stdout",
     "output_type": "stream",
     "text": [
      "Vous avez perdu\n",
      "\n",
      "##########\n",
      "\n",
      "Derrière quelle porte se cache la voiture ?\n"
     ]
    },
    {
     "name": "stdin",
     "output_type": "stream",
     "text": [
      " 3\n"
     ]
    },
    {
     "name": "stdout",
     "output_type": "stream",
     "text": [
      "2 was a wrong door\n",
      "Saisissez 1 ou 3\n",
      "Derrière quelle porte se cache la voiture ?\n"
     ]
    },
    {
     "name": "stdin",
     "output_type": "stream",
     "text": [
      " 1\n"
     ]
    },
    {
     "name": "stdout",
     "output_type": "stream",
     "text": [
      "Vous avez perdu\n",
      "\n",
      "##########\n",
      "\n",
      "Derrière quelle porte se cache la voiture ?\n"
     ]
    },
    {
     "name": "stdin",
     "output_type": "stream",
     "text": [
      " 1\n"
     ]
    },
    {
     "name": "stdout",
     "output_type": "stream",
     "text": [
      "2 was a wrong door\n",
      "Saisissez 1 ou 3\n",
      "Derrière quelle porte se cache la voiture ?\n"
     ]
    },
    {
     "name": "stdin",
     "output_type": "stream",
     "text": [
      " 3\n"
     ]
    },
    {
     "name": "stdout",
     "output_type": "stream",
     "text": [
      "Vous avez gagné !!\n",
      "\n",
      "##########\n",
      "\n",
      "Derrière quelle porte se cache la voiture ?\n"
     ]
    },
    {
     "name": "stdin",
     "output_type": "stream",
     "text": [
      " 2\n"
     ]
    },
    {
     "name": "stdout",
     "output_type": "stream",
     "text": [
      "3 was a wrong door\n",
      "Saisissez 1 ou 2\n",
      "Derrière quelle porte se cache la voiture ?\n"
     ]
    },
    {
     "name": "stdin",
     "output_type": "stream",
     "text": [
      " 1\n"
     ]
    },
    {
     "name": "stdout",
     "output_type": "stream",
     "text": [
      "Vous avez perdu\n",
      "\n",
      "##########\n",
      "\n",
      "Derrière quelle porte se cache la voiture ?\n"
     ]
    },
    {
     "name": "stdin",
     "output_type": "stream",
     "text": [
      " 2\n"
     ]
    },
    {
     "name": "stdout",
     "output_type": "stream",
     "text": [
      "3 was a wrong door\n",
      "Saisissez 1 ou 2\n",
      "Derrière quelle porte se cache la voiture ?\n"
     ]
    },
    {
     "name": "stdin",
     "output_type": "stream",
     "text": [
      " 1\n"
     ]
    },
    {
     "name": "stdout",
     "output_type": "stream",
     "text": [
      "Vous avez perdu\n",
      "\n",
      "##########\n",
      "\n",
      "Derrière quelle porte se cache la voiture ?\n"
     ]
    },
    {
     "name": "stdin",
     "output_type": "stream",
     "text": [
      " 1\n"
     ]
    },
    {
     "name": "stdout",
     "output_type": "stream",
     "text": [
      "2 was a wrong door\n",
      "Saisissez 1 ou 3\n",
      "Derrière quelle porte se cache la voiture ?\n"
     ]
    },
    {
     "name": "stdin",
     "output_type": "stream",
     "text": [
      " 3\n"
     ]
    },
    {
     "name": "stdout",
     "output_type": "stream",
     "text": [
      "Vous avez gagné !!\n",
      "\n",
      "##########\n",
      "\n",
      "4 victoire sur 10 parties - soit 40.00%\n"
     ]
    }
   ],
   "source": [
    "mh = MontyHall(user=\"human\", n_games=10, verbose=True)\n",
    "mh.many_games()\n",
    "print(f\"{mh.victory_count} victoire sur {mh.n_games} parties - soit {'{:.2%}'.format(mh.victory_count / mh.n_games)}\")"
   ]
  },
  {
   "cell_type": "markdown",
   "metadata": {},
   "source": [
    "## IA"
   ]
  },
  {
   "cell_type": "code",
   "execution_count": 97,
   "metadata": {},
   "outputs": [],
   "source": [
    "ia_1 = \"ia_dumb\"\n",
    "ia_2 = \"ia_smart\""
   ]
  },
  {
   "cell_type": "code",
   "execution_count": 105,
   "metadata": {},
   "outputs": [
    {
     "name": "stdout",
     "output_type": "stream",
     "text": [
      "340 victoire sur 1000 parties - soit 34.00%\n",
      "650 victoire sur 1000 parties - soit 65.00%\n"
     ]
    }
   ],
   "source": [
    "stats_ia = {}\n",
    "for ia in [ia_1, ia_2]:\n",
    "    mh = MontyHall(user=ia, n_games=1000)\n",
    "    mh.many_games()\n",
    "    print(f\"{mh.victory_count} victoire sur {mh.n_games} parties - soit {'{:.2%}'.format(mh.victory_count / mh.n_games)}\")\n",
    "    stats_ia[ia] = (mh.victory_count / mh.n_games)"
   ]
  },
  {
   "cell_type": "code",
   "execution_count": 112,
   "metadata": {},
   "outputs": [
    {
     "data": {
      "text/plain": [
       "Text(0.5, 1.0, 'Pourcentage de victoire par IA')"
      ]
     },
     "execution_count": 112,
     "metadata": {},
     "output_type": "execute_result"
    },
    {
     "data": {
      "image/png": "[encoded data removed]",
      "text/plain": [
       "<Figure size 432x288 with 1 Axes>"
      ]
     },
     "metadata": {
      "needs_background": "light"
     },
     "output_type": "display_data"
    }
   ],
   "source": [
    "df = pd.DataFrame.from_dict(stats_ia, orient='index', columns=[\"Pourcentage de victoires\"])\n",
    "df = df.rename(index={ia_1:\"IA qui ne change jamais\", ia_2: \"IA qui change toujours\"})\n",
    "df.plot.bar(rot=45, fontsize=15)\n",
    "plt.legend(fontsize=15)\n",
    "plt.title(\"Pourcentage de victoire par IA\")"
   ]
  },
  {
   "cell_type": "code",
   "execution_count": null,
   "metadata": {},
   "outputs": [],
   "source": []
  },
  {
   "cell_type": "code",
   "execution_count": 87,
   "metadata": {},
   "outputs": [
    {
     "data": {
      "text/plain": [
       "332"
      ]
     },
     "execution_count": 87,
     "metadata": {},
     "output_type": "execute_result"
    }
   ],
   "source": [
    "mh = MontyHall(user='ia_dumb', n_games=1000)\n",
    "mh.many_games()\n",
    "mh.victory_count"
   ]
  },
  {
   "cell_type": "code",
   "execution_count": 88,
   "metadata": {},
   "outputs": [],
   "source": [
    "import matplotlib.pyplot as plt"
   ]
  },
  {
   "cell_type": "code",
   "execution_count": null,
   "metadata": {},
   "outputs": [],
   "source": []
  }
 ],
 "metadata": {
  "kernelspec": {
   "display_name": "Python 3",
   "language": "python",
   "name": "python3"
  },
  "language_info": {
   "codemirror_mode": {
    "name": "ipython",
    "version": 3
   },
   "file_extension": ".py",
   "mimetype": "text/x-python",
   "name": "python",
   "nbconvert_exporter": "python",
   "pygments_lexer": "ipython3",
   "version": "3.9.0"
  }
 },
 "nbformat": 4,
 "nbformat_minor": 4
}
